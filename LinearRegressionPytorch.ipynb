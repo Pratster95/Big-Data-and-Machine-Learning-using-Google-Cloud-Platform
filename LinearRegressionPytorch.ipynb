{
  "nbformat": 4,
  "nbformat_minor": 0,
  "metadata": {
    "colab": {
      "provenance": [],
      "gpuType": "T4",
      "authorship_tag": "ABX9TyMnK5CY0exRRpwnOX/T7kj/",
      "include_colab_link": true
    },
    "kernelspec": {
      "name": "python3",
      "display_name": "Python 3"
    },
    "language_info": {
      "name": "python"
    },
    "accelerator": "GPU"
  },
  "cells": [
    {
      "cell_type": "markdown",
      "metadata": {
        "id": "view-in-github",
        "colab_type": "text"
      },
      "source": [
        "<a href=\"https://colab.research.google.com/github/Pratster95/Big-Data-and-Machine-Learning-using-Google-Cloud-Platform/blob/master/LinearRegressionPytorch.ipynb\" target=\"_parent\"><img src=\"https://colab.research.google.com/assets/colab-badge.svg\" alt=\"Open In Colab\"/></a>"
      ]
    },
    {
      "cell_type": "code",
      "execution_count": 21,
      "metadata": {
        "id": "e-dNf3ZFTpVk"
      },
      "outputs": [],
      "source": [
        "#import all the libraries\n",
        "import torch\n",
        "import torch.nn as nn\n",
        "import torch.optim as optim #optimizer\n",
        "import numpy as np\n",
        "import matplotlib.pyplot as plt"
      ]
    },
    {
      "cell_type": "code",
      "source": [
        "X = np.array([x for x in range(100)]) # 2 D array\n",
        "X = X.reshape(-1, 1) # vertical 2 columns\n",
        "Y = 46 + 2*X.flatten() # 1D array, flatten X to make it 1D"
      ],
      "metadata": {
        "id": "SkSg7seMT9xX"
      },
      "execution_count": 22,
      "outputs": []
    },
    {
      "cell_type": "code",
      "source": [
        "X"
      ],
      "metadata": {
        "colab": {
          "base_uri": "https://localhost:8080/"
        },
        "id": "JQtr-lSLUBqA",
        "outputId": "ccff638d-7909-4e58-a18d-2e15c5a1ccb6"
      },
      "execution_count": 23,
      "outputs": [
        {
          "output_type": "execute_result",
          "data": {
            "text/plain": [
              "array([[ 0],\n",
              "       [ 1],\n",
              "       [ 2],\n",
              "       [ 3],\n",
              "       [ 4],\n",
              "       [ 5],\n",
              "       [ 6],\n",
              "       [ 7],\n",
              "       [ 8],\n",
              "       [ 9],\n",
              "       [10],\n",
              "       [11],\n",
              "       [12],\n",
              "       [13],\n",
              "       [14],\n",
              "       [15],\n",
              "       [16],\n",
              "       [17],\n",
              "       [18],\n",
              "       [19],\n",
              "       [20],\n",
              "       [21],\n",
              "       [22],\n",
              "       [23],\n",
              "       [24],\n",
              "       [25],\n",
              "       [26],\n",
              "       [27],\n",
              "       [28],\n",
              "       [29],\n",
              "       [30],\n",
              "       [31],\n",
              "       [32],\n",
              "       [33],\n",
              "       [34],\n",
              "       [35],\n",
              "       [36],\n",
              "       [37],\n",
              "       [38],\n",
              "       [39],\n",
              "       [40],\n",
              "       [41],\n",
              "       [42],\n",
              "       [43],\n",
              "       [44],\n",
              "       [45],\n",
              "       [46],\n",
              "       [47],\n",
              "       [48],\n",
              "       [49],\n",
              "       [50],\n",
              "       [51],\n",
              "       [52],\n",
              "       [53],\n",
              "       [54],\n",
              "       [55],\n",
              "       [56],\n",
              "       [57],\n",
              "       [58],\n",
              "       [59],\n",
              "       [60],\n",
              "       [61],\n",
              "       [62],\n",
              "       [63],\n",
              "       [64],\n",
              "       [65],\n",
              "       [66],\n",
              "       [67],\n",
              "       [68],\n",
              "       [69],\n",
              "       [70],\n",
              "       [71],\n",
              "       [72],\n",
              "       [73],\n",
              "       [74],\n",
              "       [75],\n",
              "       [76],\n",
              "       [77],\n",
              "       [78],\n",
              "       [79],\n",
              "       [80],\n",
              "       [81],\n",
              "       [82],\n",
              "       [83],\n",
              "       [84],\n",
              "       [85],\n",
              "       [86],\n",
              "       [87],\n",
              "       [88],\n",
              "       [89],\n",
              "       [90],\n",
              "       [91],\n",
              "       [92],\n",
              "       [93],\n",
              "       [94],\n",
              "       [95],\n",
              "       [96],\n",
              "       [97],\n",
              "       [98],\n",
              "       [99]])"
            ]
          },
          "metadata": {},
          "execution_count": 23
        }
      ]
    },
    {
      "cell_type": "code",
      "source": [
        "Y"
      ],
      "metadata": {
        "colab": {
          "base_uri": "https://localhost:8080/"
        },
        "id": "2qMEfoL_UD84",
        "outputId": "8a9f3416-4d39-4eb4-849c-c7e61dd5e3f4"
      },
      "execution_count": 24,
      "outputs": [
        {
          "output_type": "execute_result",
          "data": {
            "text/plain": [
              "array([ 46,  48,  50,  52,  54,  56,  58,  60,  62,  64,  66,  68,  70,\n",
              "        72,  74,  76,  78,  80,  82,  84,  86,  88,  90,  92,  94,  96,\n",
              "        98, 100, 102, 104, 106, 108, 110, 112, 114, 116, 118, 120, 122,\n",
              "       124, 126, 128, 130, 132, 134, 136, 138, 140, 142, 144, 146, 148,\n",
              "       150, 152, 154, 156, 158, 160, 162, 164, 166, 168, 170, 172, 174,\n",
              "       176, 178, 180, 182, 184, 186, 188, 190, 192, 194, 196, 198, 200,\n",
              "       202, 204, 206, 208, 210, 212, 214, 216, 218, 220, 222, 224, 226,\n",
              "       228, 230, 232, 234, 236, 238, 240, 242, 244])"
            ]
          },
          "metadata": {},
          "execution_count": 24
        }
      ]
    },
    {
      "cell_type": "code",
      "source": [
        "#make scatter plot to visualize it\n",
        "plt.scatter(X, Y, label='Initial Data')\n",
        "plt.title('Pre Pytorch')\n",
        "plt.xlabel('X')\n",
        "plt.ylabel('Y')\n",
        "plt.legend()\n",
        "plt.show()"
      ],
      "metadata": {
        "colab": {
          "base_uri": "https://localhost:8080/",
          "height": 472
        },
        "id": "-hsQFs2NUF_E",
        "outputId": "86f64c21-9c63-4fdd-a925-9d79107672fe"
      },
      "execution_count": 25,
      "outputs": [
        {
          "output_type": "display_data",
          "data": {
            "text/plain": [
              "<Figure size 640x480 with 1 Axes>"
            ],
            "image/png": "[encoded data removed]"
          },
          "metadata": {}
        }
      ]
    },
    {
      "cell_type": "code",
      "source": [
        "#normalize your data\n",
        "#normalization is a data prperation technique which is used to improve model performance and training stability. It creates new values that maintain the general distribution and ratios of the source dat. It does this without distorting the general distrbution and ratios of the source data.\n",
        "\n",
        "X_mean, X_std = X.mean(), X.std()\n",
        "X_normalized = (X - X_mean) / X_std\n",
        "Y_mean, Y_std = Y.mean(), Y.std()\n",
        "Y_normalized = (Y - Y_mean) / Y_std\n",
        "\n"
      ],
      "metadata": {
        "id": "7sRcY8W2UJrN"
      },
      "execution_count": 26,
      "outputs": []
    },
    {
      "cell_type": "code",
      "source": [
        "#turn the data into tensors\n",
        "#Tensors are a specialized data structure that are very similar to arrays and matrices. In PyTorch, we use tensors to encode the inputs and outputs of a model, as well as the model’s parameters.\n",
        "#More info here: https://pytorch.org/tutorials/beginner/blitz/tensor_tutorial.html\n",
        "X_tensor = torch.tensor(X_normalized, dtype=torch.float32)\n",
        "Y_tensor = torch.tensor(Y_normalized, dtype=torch.float32)\n"
      ],
      "metadata": {
        "id": "8gY2rkTWXQRo"
      },
      "execution_count": 27,
      "outputs": []
    },
    {
      "cell_type": "code",
      "source": [
        "print(\"X_tensor:\", X_tensor)\n",
        "print(\"\\n\")\n",
        "print(\"...........................................................\")\n",
        "print(\"\\n\")\n",
        "print(\"Y_tensor:\", Y_tensor)"
      ],
      "metadata": {
        "colab": {
          "base_uri": "https://localhost:8080/"
        },
        "id": "Kn9lEqm8XhHi",
        "outputId": "df309dcc-dc73-44a9-8af3-2bb238b0e060"
      },
      "execution_count": 28,
      "outputs": [
        {
          "output_type": "stream",
          "name": "stdout",
          "text": [
            "X_tensor: tensor([[-1.7148],\n",
            "        [-1.6802],\n",
            "        [-1.6455],\n",
            "        [-1.6109],\n",
            "        [-1.5762],\n",
            "        [-1.5416],\n",
            "        [-1.5070],\n",
            "        [-1.4723],\n",
            "        [-1.4377],\n",
            "        [-1.4030],\n",
            "        [-1.3684],\n",
            "        [-1.3337],\n",
            "        [-1.2991],\n",
            "        [-1.2645],\n",
            "        [-1.2298],\n",
            "        [-1.1952],\n",
            "        [-1.1605],\n",
            "        [-1.1259],\n",
            "        [-1.0912],\n",
            "        [-1.0566],\n",
            "        [-1.0220],\n",
            "        [-0.9873],\n",
            "        [-0.9527],\n",
            "        [-0.9180],\n",
            "        [-0.8834],\n",
            "        [-0.8487],\n",
            "        [-0.8141],\n",
            "        [-0.7795],\n",
            "        [-0.7448],\n",
            "        [-0.7102],\n",
            "        [-0.6755],\n",
            "        [-0.6409],\n",
            "        [-0.6062],\n",
            "        [-0.5716],\n",
            "        [-0.5370],\n",
            "        [-0.5023],\n",
            "        [-0.4677],\n",
            "        [-0.4330],\n",
            "        [-0.3984],\n",
            "        [-0.3637],\n",
            "        [-0.3291],\n",
            "        [-0.2945],\n",
            "        [-0.2598],\n",
            "        [-0.2252],\n",
            "        [-0.1905],\n",
            "        [-0.1559],\n",
            "        [-0.1212],\n",
            "        [-0.0866],\n",
            "        [-0.0520],\n",
            "        [-0.0173],\n",
            "        [ 0.0173],\n",
            "        [ 0.0520],\n",
            "        [ 0.0866],\n",
            "        [ 0.1212],\n",
            "        [ 0.1559],\n",
            "        [ 0.1905],\n",
            "        [ 0.2252],\n",
            "        [ 0.2598],\n",
            "        [ 0.2945],\n",
            "        [ 0.3291],\n",
            "        [ 0.3637],\n",
            "        [ 0.3984],\n",
            "        [ 0.4330],\n",
            "        [ 0.4677],\n",
            "        [ 0.5023],\n",
            "        [ 0.5370],\n",
            "        [ 0.5716],\n",
            "        [ 0.6062],\n",
            "        [ 0.6409],\n",
            "        [ 0.6755],\n",
            "        [ 0.7102],\n",
            "        [ 0.7448],\n",
            "        [ 0.7795],\n",
            "        [ 0.8141],\n",
            "        [ 0.8487],\n",
            "        [ 0.8834],\n",
            "        [ 0.9180],\n",
            "        [ 0.9527],\n",
            "        [ 0.9873],\n",
            "        [ 1.0220],\n",
            "        [ 1.0566],\n",
            "        [ 1.0912],\n",
            "        [ 1.1259],\n",
            "        [ 1.1605],\n",
            "        [ 1.1952],\n",
            "        [ 1.2298],\n",
            "        [ 1.2645],\n",
            "        [ 1.2991],\n",
            "        [ 1.3337],\n",
            "        [ 1.3684],\n",
            "        [ 1.4030],\n",
            "        [ 1.4377],\n",
            "        [ 1.4723],\n",
            "        [ 1.5070],\n",
            "        [ 1.5416],\n",
            "        [ 1.5762],\n",
            "        [ 1.6109],\n",
            "        [ 1.6455],\n",
            "        [ 1.6802],\n",
            "        [ 1.7148]])\n",
            "\n",
            "\n",
            "...........................................................\n",
            "\n",
            "\n",
            "Y_tensor: tensor([-1.7148, -1.6802, -1.6455, -1.6109, -1.5762, -1.5416, -1.5070, -1.4723,\n",
            "        -1.4377, -1.4030, -1.3684, -1.3337, -1.2991, -1.2645, -1.2298, -1.1952,\n",
            "        -1.1605, -1.1259, -1.0912, -1.0566, -1.0220, -0.9873, -0.9527, -0.9180,\n",
            "        -0.8834, -0.8487, -0.8141, -0.7795, -0.7448, -0.7102, -0.6755, -0.6409,\n",
            "        -0.6062, -0.5716, -0.5370, -0.5023, -0.4677, -0.4330, -0.3984, -0.3637,\n",
            "        -0.3291, -0.2945, -0.2598, -0.2252, -0.1905, -0.1559, -0.1212, -0.0866,\n",
            "        -0.0520, -0.0173,  0.0173,  0.0520,  0.0866,  0.1212,  0.1559,  0.1905,\n",
            "         0.2252,  0.2598,  0.2945,  0.3291,  0.3637,  0.3984,  0.4330,  0.4677,\n",
            "         0.5023,  0.5370,  0.5716,  0.6062,  0.6409,  0.6755,  0.7102,  0.7448,\n",
            "         0.7795,  0.8141,  0.8487,  0.8834,  0.9180,  0.9527,  0.9873,  1.0220,\n",
            "         1.0566,  1.0912,  1.1259,  1.1605,  1.1952,  1.2298,  1.2645,  1.2991,\n",
            "         1.3337,  1.3684,  1.4030,  1.4377,  1.4723,  1.5070,  1.5416,  1.5762,\n",
            "         1.6109,  1.6455,  1.6802,  1.7148])\n"
          ]
        }
      ]
    },
    {
      "cell_type": "code",
      "source": [
        "X_tensor.shape"
      ],
      "metadata": {
        "colab": {
          "base_uri": "https://localhost:8080/"
        },
        "id": "IdXU0Pd9XigI",
        "outputId": "c3e0c398-ef79-4367-b860-10bd251e5e06"
      },
      "execution_count": 29,
      "outputs": [
        {
          "output_type": "execute_result",
          "data": {
            "text/plain": [
              "torch.Size([100, 1])"
            ]
          },
          "metadata": {},
          "execution_count": 29
        }
      ]
    },
    {
      "cell_type": "code",
      "source": [
        "Y_tensor.shape"
      ],
      "metadata": {
        "colab": {
          "base_uri": "https://localhost:8080/"
        },
        "id": "SZweG0amXr9i",
        "outputId": "0d696f1a-0a88-425d-ca34-cfd3db59cbc8"
      },
      "execution_count": 30,
      "outputs": [
        {
          "output_type": "execute_result",
          "data": {
            "text/plain": [
              "torch.Size([100])"
            ]
          },
          "metadata": {},
          "execution_count": 30
        }
      ]
    },
    {
      "cell_type": "code",
      "source": [
        "# create a LR class using nn\n",
        "class LinearRegressionModel(nn.Module):\n",
        "\tdef __init__(self, in_features, out_features):\n",
        "\t\tsuper().__init__()\n",
        "\t\tself.linear = nn.Linear(in_features, out_features)\n",
        "\tdef forward(self, x): #forward pass\n",
        "\t\treturn self.linear(x).squeeze(1) # converting back to 1D from 2D"
      ],
      "metadata": {
        "id": "zXqKasYlbgQ6"
      },
      "execution_count": 31,
      "outputs": []
    },
    {
      "cell_type": "code",
      "source": [
        "#specify in and out features\n",
        "in_features = 1\n",
        "out_features = 1\n",
        "model = LinearRegressionModel(in_features, out_features)\n"
      ],
      "metadata": {
        "id": "K5Pah7-jcgdn"
      },
      "execution_count": 32,
      "outputs": []
    },
    {
      "cell_type": "code",
      "source": [
        "#Mean Squared Error Loss\n",
        "#Avg squared error bw predicted and actual values\n",
        "criterion = nn.MSELoss()\n"
      ],
      "metadata": {
        "id": "a0vvaTxVcg6F"
      },
      "execution_count": 33,
      "outputs": []
    },
    {
      "cell_type": "code",
      "source": [
        "#optimizer #SGD\n",
        "#More info: https://pytorch.org/docs/stable/generated/torch.optim.SGD.html\n",
        "# torch.optim https://pytorch.org/docs/stable/optim.html\n",
        "optimizer = optim.SGD(model.parameters(), lr=0.1) #lr = learning rate\n",
        "\n",
        "#how SGD optimizer works\n",
        "#paramater = parameter - learning rate * gradient\n"
      ],
      "metadata": {
        "id": "_5kktQ7Kd8is"
      },
      "execution_count": 34,
      "outputs": []
    },
    {
      "cell_type": "code",
      "source": [
        "#epochs = how many times are we going to run our model\n",
        "num_epochs = 30"
      ],
      "metadata": {
        "id": "uQo4aUPseCrb"
      },
      "execution_count": 35,
      "outputs": []
    },
    {
      "cell_type": "code",
      "source": [
        "#iterate over the num_epochs and calculate o/ps using forward pass\n",
        "for epoch in range(num_epochs):\n",
        "\n",
        "#forward pass\n",
        "  outputs = model(X_tensor)\n",
        "\n",
        "\t#calculate loss\n",
        "  loss = criterion(outputs, Y_tensor) # diff of predicted and expected val.\n",
        "\n",
        "\t#backwardpass and optimization\n",
        "  optimizer.zero_grad() # clear the gradience\n",
        "  loss.backward() #compute gradience\n",
        "  optimizer.step() #update specific weights and parameters\n",
        "\n",
        "  print(f'Epoch [{epoch + 1}\\{num_epochs}], Loss: {loss.item():.2f}')"
      ],
      "metadata": {
        "colab": {
          "base_uri": "https://localhost:8080/"
        },
        "id": "k5kQ4z5levkZ",
        "outputId": "281a6fa4-2fef-42ba-bdf7-ff79781afc0f"
      },
      "execution_count": 38,
      "outputs": [
        {
          "output_type": "stream",
          "name": "stdout",
          "text": [
            "Epoch [1\\30], Loss: 0.00\n",
            "Epoch [2\\30], Loss: 0.00\n",
            "Epoch [3\\30], Loss: 0.00\n",
            "Epoch [4\\30], Loss: 0.00\n",
            "Epoch [5\\30], Loss: 0.00\n",
            "Epoch [6\\30], Loss: 0.00\n",
            "Epoch [7\\30], Loss: 0.00\n",
            "Epoch [8\\30], Loss: 0.00\n",
            "Epoch [9\\30], Loss: 0.00\n",
            "Epoch [10\\30], Loss: 0.00\n",
            "Epoch [11\\30], Loss: 0.00\n",
            "Epoch [12\\30], Loss: 0.00\n",
            "Epoch [13\\30], Loss: 0.00\n",
            "Epoch [14\\30], Loss: 0.00\n",
            "Epoch [15\\30], Loss: 0.00\n",
            "Epoch [16\\30], Loss: 0.00\n",
            "Epoch [17\\30], Loss: 0.00\n",
            "Epoch [18\\30], Loss: 0.00\n",
            "Epoch [19\\30], Loss: 0.00\n",
            "Epoch [20\\30], Loss: 0.00\n",
            "Epoch [21\\30], Loss: 0.00\n",
            "Epoch [22\\30], Loss: 0.00\n",
            "Epoch [23\\30], Loss: 0.00\n",
            "Epoch [24\\30], Loss: 0.00\n",
            "Epoch [25\\30], Loss: 0.00\n",
            "Epoch [26\\30], Loss: 0.00\n",
            "Epoch [27\\30], Loss: 0.00\n",
            "Epoch [28\\30], Loss: 0.00\n",
            "Epoch [29\\30], Loss: 0.00\n",
            "Epoch [30\\30], Loss: 0.00\n"
          ]
        }
      ]
    },
    {
      "cell_type": "code",
      "source": [
        "#Test predictions with new value of X\n",
        "new_X = 153\n",
        "new_X_normalized = (new_X - X_mean) / X_std\n",
        "new_X_tensor = torch.tensor(new_X_normalized, dtype = torch.float32).view(1,-1)\n",
        "#read here https://docs.google.com/document/d/1B17Nf4x6kIJb9PR-0CwnHeeqx4WXQe7xaFIZhdz2MFU/edit?pli=1&tab=t.rj9r2lq1lbiz (point 11)\n",
        "model.eval()\n",
        "with torch.no_grad():\n",
        "  prediction_normalized = model(new_X_tensor)\n",
        "#read here for prediction denormalization: https://stackoverflow.com/questions/32888108/denormalization-of-predicted-data-in-neural-networks#:~:text=The%20denormalization%20equation,for%20the%20stdev.\n",
        "prediction_denormalized = prediction_normalized.item() * Y_std + Y_mean\n",
        "print(f\"Predicted Value for X = {new_X}: {prediction_denormalized}\")"
      ],
      "metadata": {
        "colab": {
          "base_uri": "https://localhost:8080/"
        },
        "id": "aEGlOOPfpiMB",
        "outputId": "a5baa2b9-2684-4954-c487-90a06352790f"
      },
      "execution_count": 40,
      "outputs": [
        {
          "output_type": "stream",
          "name": "stdout",
          "text": [
            "Predicted Value for X = 153: 351.9999510993968\n"
          ]
        }
      ]
    },
    {
      "cell_type": "code",
      "source": [
        "#plotting the predictions (scatter plot)\n",
        "\n",
        "plt.scatter(X, Y, label='Initial Data')\n",
        "fit_line = model(X_tensor).detach().numpy() * Y_std + Y_mean\n",
        "plt.plot(X, fit_line, 'r', label='Pytorch Line')\n",
        "plt.legend()\n",
        "plt.xlabel('X')\n",
        "plt.ylabel('Y')\n",
        "plt.title('Pytorch with Predictions')\n",
        "plt.show()\n"
      ],
      "metadata": {
        "colab": {
          "base_uri": "https://localhost:8080/",
          "height": 472
        },
        "id": "HFISY-b34Zyo",
        "outputId": "c77f0832-d635-4807-9c93-a49adda8a104"
      },
      "execution_count": 41,
      "outputs": [
        {
          "output_type": "display_data",
          "data": {
            "text/plain": [
              "<Figure size 640x480 with 1 Axes>"
            ],
            "image/png": "[encoded data removed]"
          },
          "metadata": {}
        }
      ]
    }
  ]
}